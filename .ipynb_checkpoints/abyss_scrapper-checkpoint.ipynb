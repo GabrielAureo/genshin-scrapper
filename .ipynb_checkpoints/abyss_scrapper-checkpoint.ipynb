{
 "cells": [
  {
   "cell_type": "code",
   "execution_count": 27,
   "id": "9a900634-40af-4c0a-8dde-54e395f04e1c",
   "metadata": {},
   "outputs": [],
   "source": [
    "from selenium.webdriver import Chrome\n",
    "from selenium.webdriver.support.ui import WebDriverWait\n",
    "from selenium.webdriver.support import expected_conditions as EC\n",
    "from selenium.webdriver.common.by import By\n",
    "from selenium.common.exceptions import TimeoutException, NoSuchElementException\n",
    "from selenium.webdriver.chrome.options import Options as ChromeOptions\n",
    "import os\n",
    "import time, threading\n",
    "import re"
   ]
  },
  {
   "cell_type": "code",
   "execution_count": 2,
   "id": "3ca937c1-c4b7-478f-a290-1cc5c243e038",
   "metadata": {},
   "outputs": [],
   "source": [
    "url = 'https://webstatic-sea.mihoyo.com/app/community-game-records-sea/index.html?user_id={}#/ys'"
   ]
  },
  {
   "cell_type": "code",
   "execution_count": 36,
   "id": "bdf08661-e825-477d-90c8-3a8a49b46d96",
   "metadata": {},
   "outputs": [
    {
     "name": "stdout",
     "output_type": "stream",
     "text": [
      "[<selenium.webdriver.remote.webelement.WebElement (session=\"71cf18cab38b5c44bce6ce2e06196507\", element=\"3149d5b7-330b-4591-a5d6-b03534fa21b9\")>, <selenium.webdriver.remote.webelement.WebElement (session=\"71cf18cab38b5c44bce6ce2e06196507\", element=\"6065a32a-d84a-4f11-b38e-7a05358cd433\")>, <selenium.webdriver.remote.webelement.WebElement (session=\"71cf18cab38b5c44bce6ce2e06196507\", element=\"5d6bd98d-f306-415c-88ce-5206c980a474\")>, <selenium.webdriver.remote.webelement.WebElement (session=\"71cf18cab38b5c44bce6ce2e06196507\", element=\"d697d9e4-701d-4b07-a245-a31be7dc0450\")>, <selenium.webdriver.remote.webelement.WebElement (session=\"71cf18cab38b5c44bce6ce2e06196507\", element=\"083293d8-99c2-46b1-bdf2-6ff86bcb86f4\")>, <selenium.webdriver.remote.webelement.WebElement (session=\"71cf18cab38b5c44bce6ce2e06196507\", element=\"7871c82b-77bb-4512-aca3-19606502b2e9\")>, <selenium.webdriver.remote.webelement.WebElement (session=\"71cf18cab38b5c44bce6ce2e06196507\", element=\"4bc69e3a-85b1-4aed-acc7-74fe880c397d\")>, <selenium.webdriver.remote.webelement.WebElement (session=\"71cf18cab38b5c44bce6ce2e06196507\", element=\"221e32f5-001a-4f3e-8402-f07d97941328\")>, <selenium.webdriver.remote.webelement.WebElement (session=\"71cf18cab38b5c44bce6ce2e06196507\", element=\"1fa917b5-c27e-4db2-b7bb-0436b15de144\")>, <selenium.webdriver.remote.webelement.WebElement (session=\"71cf18cab38b5c44bce6ce2e06196507\", element=\"5e7750b3-9f97-42c5-8371-ce222f89f09e\")>, <selenium.webdriver.remote.webelement.WebElement (session=\"71cf18cab38b5c44bce6ce2e06196507\", element=\"24de691f-1085-4682-95ef-1b588df35d98\")>, <selenium.webdriver.remote.webelement.WebElement (session=\"71cf18cab38b5c44bce6ce2e06196507\", element=\"71a24f96-974f-4838-8c52-0e1fd19f3ed3\")>, <selenium.webdriver.remote.webelement.WebElement (session=\"71cf18cab38b5c44bce6ce2e06196507\", element=\"0a079775-96c2-4db8-aa19-2ff1edf3fd4d\")>, <selenium.webdriver.remote.webelement.WebElement (session=\"71cf18cab38b5c44bce6ce2e06196507\", element=\"9bed8018-7c5b-47ce-b12b-5460dda5a474\")>, <selenium.webdriver.remote.webelement.WebElement (session=\"71cf18cab38b5c44bce6ce2e06196507\", element=\"e655ad72-c743-4702-b656-f10c7c69baaf\")>, <selenium.webdriver.remote.webelement.WebElement (session=\"71cf18cab38b5c44bce6ce2e06196507\", element=\"6ac1f002-33e0-474b-b2ab-e7225433ba09\")>, <selenium.webdriver.remote.webelement.WebElement (session=\"71cf18cab38b5c44bce6ce2e06196507\", element=\"36577303-37cf-42a6-8138-4d1cb0918621\")>, <selenium.webdriver.remote.webelement.WebElement (session=\"71cf18cab38b5c44bce6ce2e06196507\", element=\"4b2caf28-8b34-4e21-b1e9-58f2000c79f3\")>, <selenium.webdriver.remote.webelement.WebElement (session=\"71cf18cab38b5c44bce6ce2e06196507\", element=\"7a94937f-0a26-4d2d-90a9-62699f7048a9\")>, <selenium.webdriver.remote.webelement.WebElement (session=\"71cf18cab38b5c44bce6ce2e06196507\", element=\"cac0baf6-9bd2-4fb8-8ae9-5b369042b2b0\")>, <selenium.webdriver.remote.webelement.WebElement (session=\"71cf18cab38b5c44bce6ce2e06196507\", element=\"ba24e4c6-1489-41ed-86a2-23413d72a644\")>, <selenium.webdriver.remote.webelement.WebElement (session=\"71cf18cab38b5c44bce6ce2e06196507\", element=\"1dde42f5-c55c-4f20-89b3-068b4b7032db\")>, <selenium.webdriver.remote.webelement.WebElement (session=\"71cf18cab38b5c44bce6ce2e06196507\", element=\"d031a16e-616c-412c-9c3b-cdd5adbf4493\")>, <selenium.webdriver.remote.webelement.WebElement (session=\"71cf18cab38b5c44bce6ce2e06196507\", element=\"7708006e-6c45-42f6-adb2-e121cd6943fc\")>]\n"
     ]
    }
   ],
   "source": [
    "def get_abyss_characters(driver -> ChromeDriver, user_id -> string):\n",
    "    driver.get(url.format(user_id))\n",
    "    expand_selector = 'div:nth-child({}) > div.button'\n",
    "    wait = WebDriverWait(driver,10)\n",
    "    wait.until(\n",
    "        EC.presence_of_element_located((By.CLASS_NAME, 'skeleton-hidden'))\n",
    "    )\n",
    "    try:\n",
    "        floors = driver.find_element_by_class_name('floors-block')\n",
    "    except NoSuchElementException:\n",
    "        return None\n",
    "    abyss_rooms = floors.find_elements_by_xpath(\"//div[@class='pc-content--roles']\")\n",
    "    \n",
    "    prog = re.compile('(?<=AvatarIcon_)(.*)(?=.png)')\n",
    "    \n",
    "    characters = []\n",
    "    for room in abyss_rooms:\n",
    "        floor_characters = [prog.search(x.get_attribute('src')).group(0) for x in room.find_elements_by_xpath(\".//div[@class='card']/img\")]\n",
    "        characters.append(floor_characters)\n",
    "    return characters"
   ]
  },
  {
   "cell_type": "code",
   "execution_count": null,
   "id": "07df7eae-69f9-4971-9064-30c8fbe1f663",
   "metadata": {},
   "outputs": [],
   "source": []
  }
 ],
 "metadata": {
  "kernelspec": {
   "display_name": "Python 3",
   "language": "python",
   "name": "python3"
  },
  "language_info": {
   "codemirror_mode": {
    "name": "ipython",
    "version": 3
   },
   "file_extension": ".py",
   "mimetype": "text/x-python",
   "name": "python",
   "nbconvert_exporter": "python",
   "pygments_lexer": "ipython3",
   "version": "3.8.3"
  }
 },
 "nbformat": 4,
 "nbformat_minor": 5
}
